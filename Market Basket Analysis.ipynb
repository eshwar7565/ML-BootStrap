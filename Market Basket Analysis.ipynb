{
  "nbformat": 4,
  "nbformat_minor": 0,
  "metadata": {
    "colab": {
      "provenance": [],
      "authorship_tag": "ABX9TyMO2zz63+fqhHtsKu/hzICt",
      "include_colab_link": true
    },
    "kernelspec": {
      "name": "python3",
      "display_name": "Python 3"
    },
    "language_info": {
      "name": "python"
    }
  },
  "cells": [
    {
      "cell_type": "markdown",
      "metadata": {
        "id": "view-in-github",
        "colab_type": "text"
      },
      "source": [
        "<a href=\"https://colab.research.google.com/github/eshwar7565/Algorithms/blob/master/Market%20Basket%20Analysis.ipynb\" target=\"_parent\"><img src=\"https://colab.research.google.com/assets/colab-badge.svg\" alt=\"Open In Colab\"/></a>"
      ]
    },
    {
      "cell_type": "code",
      "execution_count": 2,
      "metadata": {
        "id": "SYgKQumQgBrV"
      },
      "outputs": [],
      "source": [
        "import numpy                                                  as np\n",
        "import pandas                                                 as pd\n",
        "import matplotlib                                             as mp\n",
        "from   matplotlib                    import pyplot            as plt\n",
        "from   mlxtend.frequent_patterns     import apriori           as ap\n",
        "from   mlxtend.frequent_patterns     import association_rules as ar\n",
        "import math\n"
      ]
    },
    {
      "cell_type": "code",
      "source": [
        "from google.colab import drive\n",
        "drive.mount('/content/drive')"
      ],
      "metadata": {
        "colab": {
          "base_uri": "https://localhost:8080/"
        },
        "id": "iikG2jWPgPIH",
        "outputId": "b335b18f-2424-492c-f639-91566deb262e"
      },
      "execution_count": 3,
      "outputs": [
        {
          "output_type": "stream",
          "name": "stdout",
          "text": [
            "Mounted at /content/drive\n"
          ]
        }
      ]
    },
    {
      "cell_type": "code",
      "source": [
        "%cd /content/drive/My Drive/Colab Notebooks"
      ],
      "metadata": {
        "colab": {
          "base_uri": "https://localhost:8080/"
        },
        "id": "4mElfo29gzJj",
        "outputId": "b9eb4b50-3d86-4f57-c611-c50033c37149"
      },
      "execution_count": 4,
      "outputs": [
        {
          "output_type": "stream",
          "name": "stdout",
          "text": [
            "/content/drive/My Drive/Colab Notebooks\n"
          ]
        }
      ]
    },
    {
      "cell_type": "code",
      "source": [
        "items_data_df   = pd.read_csv(\"Grocery Products Purchase.csv\")\n",
        "items_data_df.head(10)\n"
      ],
      "metadata": {
        "colab": {
          "base_uri": "https://localhost:8080/",
          "height": 593
        },
        "id": "z9kuOl9zgkV6",
        "outputId": "eff18d9e-a0a2-4abc-8b7c-0be82874cd7c"
      },
      "execution_count": 5,
      "outputs": [
        {
          "output_type": "execute_result",
          "data": {
            "text/plain": [
              "          Product 1            Product 2       Product 3  \\\n",
              "0      citrus fruit  semi-finished bread       margarine   \n",
              "1    tropical fruit               yogurt          coffee   \n",
              "2        whole milk                  NaN             NaN   \n",
              "3         pip fruit               yogurt    cream cheese   \n",
              "4  other vegetables           whole milk  condensed milk   \n",
              "5        whole milk               butter          yogurt   \n",
              "6        rolls/buns                  NaN             NaN   \n",
              "7  other vegetables             UHT-milk      rolls/buns   \n",
              "8     potted plants                  NaN             NaN   \n",
              "9        whole milk              cereals             NaN   \n",
              "\n",
              "                  Product 4           Product 5 Product 6 Product 7 Product 8  \\\n",
              "0               ready soups                 NaN       NaN       NaN       NaN   \n",
              "1                       NaN                 NaN       NaN       NaN       NaN   \n",
              "2                       NaN                 NaN       NaN       NaN       NaN   \n",
              "3              meat spreads                 NaN       NaN       NaN       NaN   \n",
              "4  long life bakery product                 NaN       NaN       NaN       NaN   \n",
              "5                      rice    abrasive cleaner       NaN       NaN       NaN   \n",
              "6                       NaN                 NaN       NaN       NaN       NaN   \n",
              "7              bottled beer  liquor (appetizer)       NaN       NaN       NaN   \n",
              "8                       NaN                 NaN       NaN       NaN       NaN   \n",
              "9                       NaN                 NaN       NaN       NaN       NaN   \n",
              "\n",
              "  Product 9 Product 10  ... Product 23 Product 24 Product 25 Product 26  \\\n",
              "0       NaN        NaN  ...        NaN        NaN        NaN        NaN   \n",
              "1       NaN        NaN  ...        NaN        NaN        NaN        NaN   \n",
              "2       NaN        NaN  ...        NaN        NaN        NaN        NaN   \n",
              "3       NaN        NaN  ...        NaN        NaN        NaN        NaN   \n",
              "4       NaN        NaN  ...        NaN        NaN        NaN        NaN   \n",
              "5       NaN        NaN  ...        NaN        NaN        NaN        NaN   \n",
              "6       NaN        NaN  ...        NaN        NaN        NaN        NaN   \n",
              "7       NaN        NaN  ...        NaN        NaN        NaN        NaN   \n",
              "8       NaN        NaN  ...        NaN        NaN        NaN        NaN   \n",
              "9       NaN        NaN  ...        NaN        NaN        NaN        NaN   \n",
              "\n",
              "  Product 27 Product 28 Product 29 Product 30 Product 31 Product 32  \n",
              "0        NaN        NaN        NaN        NaN        NaN        NaN  \n",
              "1        NaN        NaN        NaN        NaN        NaN        NaN  \n",
              "2        NaN        NaN        NaN        NaN        NaN        NaN  \n",
              "3        NaN        NaN        NaN        NaN        NaN        NaN  \n",
              "4        NaN        NaN        NaN        NaN        NaN        NaN  \n",
              "5        NaN        NaN        NaN        NaN        NaN        NaN  \n",
              "6        NaN        NaN        NaN        NaN        NaN        NaN  \n",
              "7        NaN        NaN        NaN        NaN        NaN        NaN  \n",
              "8        NaN        NaN        NaN        NaN        NaN        NaN  \n",
              "9        NaN        NaN        NaN        NaN        NaN        NaN  \n",
              "\n",
              "[10 rows x 32 columns]"
            ],
            "text/html": [
              "\n",
              "  <div id=\"df-8615348c-d31a-46f7-9e3c-a5a76cf74373\">\n",
              "    <div class=\"colab-df-container\">\n",
              "      <div>\n",
              "<style scoped>\n",
              "    .dataframe tbody tr th:only-of-type {\n",
              "        vertical-align: middle;\n",
              "    }\n",
              "\n",
              "    .dataframe tbody tr th {\n",
              "        vertical-align: top;\n",
              "    }\n",
              "\n",
              "    .dataframe thead th {\n",
              "        text-align: right;\n",
              "    }\n",
              "</style>\n",
              "<table border=\"1\" class=\"dataframe\">\n",
              "  <thead>\n",
              "    <tr style=\"text-align: right;\">\n",
              "      <th></th>\n",
              "      <th>Product 1</th>\n",
              "      <th>Product 2</th>\n",
              "      <th>Product 3</th>\n",
              "      <th>Product 4</th>\n",
              "      <th>Product 5</th>\n",
              "      <th>Product 6</th>\n",
              "      <th>Product 7</th>\n",
              "      <th>Product 8</th>\n",
              "      <th>Product 9</th>\n",
              "      <th>Product 10</th>\n",
              "      <th>...</th>\n",
              "      <th>Product 23</th>\n",
              "      <th>Product 24</th>\n",
              "      <th>Product 25</th>\n",
              "      <th>Product 26</th>\n",
              "      <th>Product 27</th>\n",
              "      <th>Product 28</th>\n",
              "      <th>Product 29</th>\n",
              "      <th>Product 30</th>\n",
              "      <th>Product 31</th>\n",
              "      <th>Product 32</th>\n",
              "    </tr>\n",
              "  </thead>\n",
              "  <tbody>\n",
              "    <tr>\n",
              "      <th>0</th>\n",
              "      <td>citrus fruit</td>\n",
              "      <td>semi-finished bread</td>\n",
              "      <td>margarine</td>\n",
              "      <td>ready soups</td>\n",
              "      <td>NaN</td>\n",
              "      <td>NaN</td>\n",
              "      <td>NaN</td>\n",
              "      <td>NaN</td>\n",
              "      <td>NaN</td>\n",
              "      <td>NaN</td>\n",
              "      <td>...</td>\n",
              "      <td>NaN</td>\n",
              "      <td>NaN</td>\n",
              "      <td>NaN</td>\n",
              "      <td>NaN</td>\n",
              "      <td>NaN</td>\n",
              "      <td>NaN</td>\n",
              "      <td>NaN</td>\n",
              "      <td>NaN</td>\n",
              "      <td>NaN</td>\n",
              "      <td>NaN</td>\n",
              "    </tr>\n",
              "    <tr>\n",
              "      <th>1</th>\n",
              "      <td>tropical fruit</td>\n",
              "      <td>yogurt</td>\n",
              "      <td>coffee</td>\n",
              "      <td>NaN</td>\n",
              "      <td>NaN</td>\n",
              "      <td>NaN</td>\n",
              "      <td>NaN</td>\n",
              "      <td>NaN</td>\n",
              "      <td>NaN</td>\n",
              "      <td>NaN</td>\n",
              "      <td>...</td>\n",
              "      <td>NaN</td>\n",
              "      <td>NaN</td>\n",
              "      <td>NaN</td>\n",
              "      <td>NaN</td>\n",
              "      <td>NaN</td>\n",
              "      <td>NaN</td>\n",
              "      <td>NaN</td>\n",
              "      <td>NaN</td>\n",
              "      <td>NaN</td>\n",
              "      <td>NaN</td>\n",
              "    </tr>\n",
              "    <tr>\n",
              "      <th>2</th>\n",
              "      <td>whole milk</td>\n",
              "      <td>NaN</td>\n",
              "      <td>NaN</td>\n",
              "      <td>NaN</td>\n",
              "      <td>NaN</td>\n",
              "      <td>NaN</td>\n",
              "      <td>NaN</td>\n",
              "      <td>NaN</td>\n",
              "      <td>NaN</td>\n",
              "      <td>NaN</td>\n",
              "      <td>...</td>\n",
              "      <td>NaN</td>\n",
              "      <td>NaN</td>\n",
              "      <td>NaN</td>\n",
              "      <td>NaN</td>\n",
              "      <td>NaN</td>\n",
              "      <td>NaN</td>\n",
              "      <td>NaN</td>\n",
              "      <td>NaN</td>\n",
              "      <td>NaN</td>\n",
              "      <td>NaN</td>\n",
              "    </tr>\n",
              "    <tr>\n",
              "      <th>3</th>\n",
              "      <td>pip fruit</td>\n",
              "      <td>yogurt</td>\n",
              "      <td>cream cheese</td>\n",
              "      <td>meat spreads</td>\n",
              "      <td>NaN</td>\n",
              "      <td>NaN</td>\n",
              "      <td>NaN</td>\n",
              "      <td>NaN</td>\n",
              "      <td>NaN</td>\n",
              "      <td>NaN</td>\n",
              "      <td>...</td>\n",
              "      <td>NaN</td>\n",
              "      <td>NaN</td>\n",
              "      <td>NaN</td>\n",
              "      <td>NaN</td>\n",
              "      <td>NaN</td>\n",
              "      <td>NaN</td>\n",
              "      <td>NaN</td>\n",
              "      <td>NaN</td>\n",
              "      <td>NaN</td>\n",
              "      <td>NaN</td>\n",
              "    </tr>\n",
              "    <tr>\n",
              "      <th>4</th>\n",
              "      <td>other vegetables</td>\n",
              "      <td>whole milk</td>\n",
              "      <td>condensed milk</td>\n",
              "      <td>long life bakery product</td>\n",
              "      <td>NaN</td>\n",
              "      <td>NaN</td>\n",
              "      <td>NaN</td>\n",
              "      <td>NaN</td>\n",
              "      <td>NaN</td>\n",
              "      <td>NaN</td>\n",
              "      <td>...</td>\n",
              "      <td>NaN</td>\n",
              "      <td>NaN</td>\n",
              "      <td>NaN</td>\n",
              "      <td>NaN</td>\n",
              "      <td>NaN</td>\n",
              "      <td>NaN</td>\n",
              "      <td>NaN</td>\n",
              "      <td>NaN</td>\n",
              "      <td>NaN</td>\n",
              "      <td>NaN</td>\n",
              "    </tr>\n",
              "    <tr>\n",
              "      <th>5</th>\n",
              "      <td>whole milk</td>\n",
              "      <td>butter</td>\n",
              "      <td>yogurt</td>\n",
              "      <td>rice</td>\n",
              "      <td>abrasive cleaner</td>\n",
              "      <td>NaN</td>\n",
              "      <td>NaN</td>\n",
              "      <td>NaN</td>\n",
              "      <td>NaN</td>\n",
              "      <td>NaN</td>\n",
              "      <td>...</td>\n",
              "      <td>NaN</td>\n",
              "      <td>NaN</td>\n",
              "      <td>NaN</td>\n",
              "      <td>NaN</td>\n",
              "      <td>NaN</td>\n",
              "      <td>NaN</td>\n",
              "      <td>NaN</td>\n",
              "      <td>NaN</td>\n",
              "      <td>NaN</td>\n",
              "      <td>NaN</td>\n",
              "    </tr>\n",
              "    <tr>\n",
              "      <th>6</th>\n",
              "      <td>rolls/buns</td>\n",
              "      <td>NaN</td>\n",
              "      <td>NaN</td>\n",
              "      <td>NaN</td>\n",
              "      <td>NaN</td>\n",
              "      <td>NaN</td>\n",
              "      <td>NaN</td>\n",
              "      <td>NaN</td>\n",
              "      <td>NaN</td>\n",
              "      <td>NaN</td>\n",
              "      <td>...</td>\n",
              "      <td>NaN</td>\n",
              "      <td>NaN</td>\n",
              "      <td>NaN</td>\n",
              "      <td>NaN</td>\n",
              "      <td>NaN</td>\n",
              "      <td>NaN</td>\n",
              "      <td>NaN</td>\n",
              "      <td>NaN</td>\n",
              "      <td>NaN</td>\n",
              "      <td>NaN</td>\n",
              "    </tr>\n",
              "    <tr>\n",
              "      <th>7</th>\n",
              "      <td>other vegetables</td>\n",
              "      <td>UHT-milk</td>\n",
              "      <td>rolls/buns</td>\n",
              "      <td>bottled beer</td>\n",
              "      <td>liquor (appetizer)</td>\n",
              "      <td>NaN</td>\n",
              "      <td>NaN</td>\n",
              "      <td>NaN</td>\n",
              "      <td>NaN</td>\n",
              "      <td>NaN</td>\n",
              "      <td>...</td>\n",
              "      <td>NaN</td>\n",
              "      <td>NaN</td>\n",
              "      <td>NaN</td>\n",
              "      <td>NaN</td>\n",
              "      <td>NaN</td>\n",
              "      <td>NaN</td>\n",
              "      <td>NaN</td>\n",
              "      <td>NaN</td>\n",
              "      <td>NaN</td>\n",
              "      <td>NaN</td>\n",
              "    </tr>\n",
              "    <tr>\n",
              "      <th>8</th>\n",
              "      <td>potted plants</td>\n",
              "      <td>NaN</td>\n",
              "      <td>NaN</td>\n",
              "      <td>NaN</td>\n",
              "      <td>NaN</td>\n",
              "      <td>NaN</td>\n",
              "      <td>NaN</td>\n",
              "      <td>NaN</td>\n",
              "      <td>NaN</td>\n",
              "      <td>NaN</td>\n",
              "      <td>...</td>\n",
              "      <td>NaN</td>\n",
              "      <td>NaN</td>\n",
              "      <td>NaN</td>\n",
              "      <td>NaN</td>\n",
              "      <td>NaN</td>\n",
              "      <td>NaN</td>\n",
              "      <td>NaN</td>\n",
              "      <td>NaN</td>\n",
              "      <td>NaN</td>\n",
              "      <td>NaN</td>\n",
              "    </tr>\n",
              "    <tr>\n",
              "      <th>9</th>\n",
              "      <td>whole milk</td>\n",
              "      <td>cereals</td>\n",
              "      <td>NaN</td>\n",
              "      <td>NaN</td>\n",
              "      <td>NaN</td>\n",
              "      <td>NaN</td>\n",
              "      <td>NaN</td>\n",
              "      <td>NaN</td>\n",
              "      <td>NaN</td>\n",
              "      <td>NaN</td>\n",
              "      <td>...</td>\n",
              "      <td>NaN</td>\n",
              "      <td>NaN</td>\n",
              "      <td>NaN</td>\n",
              "      <td>NaN</td>\n",
              "      <td>NaN</td>\n",
              "      <td>NaN</td>\n",
              "      <td>NaN</td>\n",
              "      <td>NaN</td>\n",
              "      <td>NaN</td>\n",
              "      <td>NaN</td>\n",
              "    </tr>\n",
              "  </tbody>\n",
              "</table>\n",
              "<p>10 rows × 32 columns</p>\n",
              "</div>\n",
              "      <button class=\"colab-df-convert\" onclick=\"convertToInteractive('df-8615348c-d31a-46f7-9e3c-a5a76cf74373')\"\n",
              "              title=\"Convert this dataframe to an interactive table.\"\n",
              "              style=\"display:none;\">\n",
              "        \n",
              "  <svg xmlns=\"http://www.w3.org/2000/svg\" height=\"24px\"viewBox=\"0 0 24 24\"\n",
              "       width=\"24px\">\n",
              "    <path d=\"M0 0h24v24H0V0z\" fill=\"none\"/>\n",
              "    <path d=\"M18.56 5.44l.94 2.06.94-2.06 2.06-.94-2.06-.94-.94-2.06-.94 2.06-2.06.94zm-11 1L8.5 8.5l.94-2.06 2.06-.94-2.06-.94L8.5 2.5l-.94 2.06-2.06.94zm10 10l.94 2.06.94-2.06 2.06-.94-2.06-.94-.94-2.06-.94 2.06-2.06.94z\"/><path d=\"M17.41 7.96l-1.37-1.37c-.4-.4-.92-.59-1.43-.59-.52 0-1.04.2-1.43.59L10.3 9.45l-7.72 7.72c-.78.78-.78 2.05 0 2.83L4 21.41c.39.39.9.59 1.41.59.51 0 1.02-.2 1.41-.59l7.78-7.78 2.81-2.81c.8-.78.8-2.07 0-2.86zM5.41 20L4 18.59l7.72-7.72 1.47 1.35L5.41 20z\"/>\n",
              "  </svg>\n",
              "      </button>\n",
              "      \n",
              "  <style>\n",
              "    .colab-df-container {\n",
              "      display:flex;\n",
              "      flex-wrap:wrap;\n",
              "      gap: 12px;\n",
              "    }\n",
              "\n",
              "    .colab-df-convert {\n",
              "      background-color: #E8F0FE;\n",
              "      border: none;\n",
              "      border-radius: 50%;\n",
              "      cursor: pointer;\n",
              "      display: none;\n",
              "      fill: #1967D2;\n",
              "      height: 32px;\n",
              "      padding: 0 0 0 0;\n",
              "      width: 32px;\n",
              "    }\n",
              "\n",
              "    .colab-df-convert:hover {\n",
              "      background-color: #E2EBFA;\n",
              "      box-shadow: 0px 1px 2px rgba(60, 64, 67, 0.3), 0px 1px 3px 1px rgba(60, 64, 67, 0.15);\n",
              "      fill: #174EA6;\n",
              "    }\n",
              "\n",
              "    [theme=dark] .colab-df-convert {\n",
              "      background-color: #3B4455;\n",
              "      fill: #D2E3FC;\n",
              "    }\n",
              "\n",
              "    [theme=dark] .colab-df-convert:hover {\n",
              "      background-color: #434B5C;\n",
              "      box-shadow: 0px 1px 3px 1px rgba(0, 0, 0, 0.15);\n",
              "      filter: drop-shadow(0px 1px 2px rgba(0, 0, 0, 0.3));\n",
              "      fill: #FFFFFF;\n",
              "    }\n",
              "  </style>\n",
              "\n",
              "      <script>\n",
              "        const buttonEl =\n",
              "          document.querySelector('#df-8615348c-d31a-46f7-9e3c-a5a76cf74373 button.colab-df-convert');\n",
              "        buttonEl.style.display =\n",
              "          google.colab.kernel.accessAllowed ? 'block' : 'none';\n",
              "\n",
              "        async function convertToInteractive(key) {\n",
              "          const element = document.querySelector('#df-8615348c-d31a-46f7-9e3c-a5a76cf74373');\n",
              "          const dataTable =\n",
              "            await google.colab.kernel.invokeFunction('convertToInteractive',\n",
              "                                                     [key], {});\n",
              "          if (!dataTable) return;\n",
              "\n",
              "          const docLinkHtml = 'Like what you see? Visit the ' +\n",
              "            '<a target=\"_blank\" href=https://colab.research.google.com/notebooks/data_table.ipynb>data table notebook</a>'\n",
              "            + ' to learn more about interactive tables.';\n",
              "          element.innerHTML = '';\n",
              "          dataTable['output_type'] = 'display_data';\n",
              "          await google.colab.output.renderOutput(dataTable, element);\n",
              "          const docLink = document.createElement('div');\n",
              "          docLink.innerHTML = docLinkHtml;\n",
              "          element.appendChild(docLink);\n",
              "        }\n",
              "      </script>\n",
              "    </div>\n",
              "  </div>\n",
              "  "
            ]
          },
          "metadata": {},
          "execution_count": 5
        }
      ]
    },
    {
      "cell_type": "code",
      "source": [
        "items_data_df.info()"
      ],
      "metadata": {
        "colab": {
          "base_uri": "https://localhost:8080/"
        },
        "id": "4XW6xarmg5mz",
        "outputId": "47fd51c8-f909-4aac-e9b5-dbd8a65fea2a"
      },
      "execution_count": 6,
      "outputs": [
        {
          "output_type": "stream",
          "name": "stdout",
          "text": [
            "<class 'pandas.core.frame.DataFrame'>\n",
            "RangeIndex: 9835 entries, 0 to 9834\n",
            "Data columns (total 32 columns):\n",
            " #   Column      Non-Null Count  Dtype \n",
            "---  ------      --------------  ----- \n",
            " 0   Product 1   9835 non-null   object\n",
            " 1   Product 2   7676 non-null   object\n",
            " 2   Product 3   6033 non-null   object\n",
            " 3   Product 4   4734 non-null   object\n",
            " 4   Product 5   3729 non-null   object\n",
            " 5   Product 6   2874 non-null   object\n",
            " 6   Product 7   2229 non-null   object\n",
            " 7   Product 8   1684 non-null   object\n",
            " 8   Product 9   1246 non-null   object\n",
            " 9   Product 10  896 non-null    object\n",
            " 10  Product 11  650 non-null    object\n",
            " 11  Product 12  468 non-null    object\n",
            " 12  Product 13  351 non-null    object\n",
            " 13  Product 14  273 non-null    object\n",
            " 14  Product 15  196 non-null    object\n",
            " 15  Product 16  141 non-null    object\n",
            " 16  Product 17  95 non-null     object\n",
            " 17  Product 18  66 non-null     object\n",
            " 18  Product 19  52 non-null     object\n",
            " 19  Product 20  38 non-null     object\n",
            " 20  Product 21  29 non-null     object\n",
            " 21  Product 22  18 non-null     object\n",
            " 22  Product 23  14 non-null     object\n",
            " 23  Product 24  8 non-null      object\n",
            " 24  Product 25  7 non-null      object\n",
            " 25  Product 26  7 non-null      object\n",
            " 26  Product 27  6 non-null      object\n",
            " 27  Product 28  5 non-null      object\n",
            " 28  Product 29  4 non-null      object\n",
            " 29  Product 30  1 non-null      object\n",
            " 30  Product 31  1 non-null      object\n",
            " 31  Product 32  1 non-null      object\n",
            "dtypes: object(32)\n",
            "memory usage: 2.4+ MB\n"
          ]
        }
      ]
    },
    {
      "cell_type": "code",
      "source": [
        "#removing the extraneous attributes \n",
        "\n",
        "records = []\n",
        "for i in range(1, 9000):\n",
        "    records.append([str(items_data_df.values[i, j]) for j in range(0, 31)])\n",
        "import math\n",
        "\n",
        "# Example list with sublists containing NaN values\n",
        "\n",
        "\n",
        "# Remove NaN values from sublists using list comprehension\n",
        "records = [[x for x in sublist if x!=\"nan\"] for sublist in records]\n",
        "\n",
        "combined_list = [item for sublist in records for item in sublist]\n",
        "\n",
        "# print the combined lit\n",
        "\n",
        "\n"
      ],
      "metadata": {
        "id": "PP4K6r-Bqwbl"
      },
      "execution_count": 7,
      "outputs": []
    },
    {
      "cell_type": "code",
      "source": [
        "\n",
        "\n",
        "from collections import Counter\n",
        "\n",
        "# example list of grocery items with sublists that do not have quantity or price information\n",
        "#grocery_list = [\"apple\", \"banana\", \"apple\", \"orange\", \"banana\", \"grape\", \"apple\", \"grape\", \"kiwi\", \"apple\", \"banana\", \"orange\", \"pear\", \"apple\", \"banana\", \"pear\", \"kiwi\", \"orange\", \"apple\", \"grape\"]\n",
        "\n",
        "# count the occurrences of each grocery item\n",
        "item_counts = Counter(combined_list)\n",
        "\n",
        "# sort the dictionary by the count and select the top 10 items\n",
        "top_items = dict(sorted(item_counts.items(), key=lambda x: x[1], reverse=True)[:10])\n",
        "\n",
        "# plot the top 10 items as a bar chart\n",
        "plt.bar(top_items.keys(), top_items.values())\n",
        "plt.xticks(rotation=90)\n",
        "\n",
        "plt.xlabel(\"Grocery Item\")\n",
        "plt.ylabel(\"Frequency\")\n",
        "plt.title(\"Top 10 Grocery Items by Frequency\")\n",
        "plt.figure(figsize=(30,15))\n",
        "plt.subplots_adjust(left=0.1, right=0.9, top=0.9, bottom=0.1)\n",
        "\n",
        "plt.show()\n",
        "\n"
      ],
      "metadata": {
        "colab": {
          "base_uri": "https://localhost:8080/",
          "height": 387
        },
        "id": "WKESszC6tsdj",
        "outputId": "64202649-2e24-4930-87bd-ff93dc524877"
      },
      "execution_count": 8,
      "outputs": [
        {
          "output_type": "display_data",
          "data": {
            "text/plain": [
              "<Figure size 432x288 with 1 Axes>"
            ],
            "image/png": "[encoded data removed]"
          },
          "metadata": {
            "needs_background": "light"
          }
        },
        {
          "output_type": "display_data",
          "data": {
            "text/plain": [
              "<Figure size 2160x1080 with 0 Axes>"
            ]
          },
          "metadata": {}
        }
      ]
    },
    {
      "cell_type": "code",
      "source": [
        "x = np.arange(0, 10, 0.1)\n",
        "y = np.sin(x)\n",
        "\n",
        "# create a new figure with a larger size\n",
        "fig = plt.figure(figsize=(8, 6))\n",
        "\n",
        "# create a new subplot\n",
        "ax = fig.add_subplot(111)\n",
        "\n",
        "# plot the data on the subplot\n",
        "ax.plot(x, y)\n",
        "\n",
        "# adjust the margins of the subplot\n",
        "plt.subplots_adjust(left=0.1, right=0.9, top=0.9, bottom=0.1)\n",
        "\n",
        "# add labels and a title to the plot\n",
        "ax.set_xlabel(\"x\")\n",
        "ax.set_ylabel(\"y\")\n",
        "ax.set_title(\"Sine Wave\")\n",
        "\n",
        "# display the plot\n",
        "plt.show()\n"
      ],
      "metadata": {
        "colab": {
          "base_uri": "https://localhost:8080/",
          "height": 423
        },
        "id": "CsAgAN6O3OmL",
        "outputId": "a42bec5e-f8c7-43b4-e352-f6e7e52c9c2b"
      },
      "execution_count": 9,
      "outputs": [
        {
          "output_type": "display_data",
          "data": {
            "text/plain": [
              "<Figure size 576x432 with 1 Axes>"
            ],
            "image/png": "[encoded data removed]"
          },
          "metadata": {
            "needs_background": "light"
          }
        }
      ]
    },
    {
      "cell_type": "code",
      "source": [
        "unique_items = []\n",
        "for col in items_data_df.columns:\n",
        "    # extract the unique values in the column and add them to the list\n",
        "    unique_items.extend(items_data_df[col].unique().tolist())\n",
        "unique_values = list(set(unique_items))\n",
        "\n",
        "print(unique_items)\n"
      ],
      "metadata": {
        "colab": {
          "base_uri": "https://localhost:8080/"
        },
        "id": "lqw9DQrtg-k9",
        "outputId": "4eaf83d4-89b5-4f91-b9db-630fb8f3f81a"
      },
      "execution_count": 10,
      "outputs": [
        {
          "output_type": "stream",
          "name": "stdout",
          "text": [
            "['citrus fruit', 'tropical fruit', 'whole milk', 'pip fruit', 'other vegetables', 'rolls/buns', 'potted plants', 'beef', 'frankfurter', 'chicken', 'butter', 'fruit/vegetable juice', 'packaged fruit/vegetables', 'chocolate', 'specialty bar', 'butter milk', 'bottled water', 'yogurt', 'sausage', 'brown bread', 'hamburger meat', 'root vegetables', 'pork', 'pastry', 'canned beer', 'berries', 'coffee', 'misc. beverages', 'ham', 'turkey', 'curd cheese', 'red/blush wine', 'frozen potato products', 'flour', 'sugar', 'frozen meals', 'herbs', 'soda', 'detergent', 'grapes', 'processed cheese', 'fish', 'sparkling wine', 'newspapers', 'curd', 'pasta', 'popcorn', 'finished products', 'beverages', 'bottled beer', 'dessert', 'dog food', 'specialty chocolate', 'condensed milk', 'cleaner', 'white wine', 'meat', 'ice cream', 'hard cheese', 'cream cheese', 'liquor', 'pickled vegetables', 'liquor (appetizer)', 'UHT-milk', 'candy', 'onions', 'hair spray', 'photo/film', 'domestic eggs', 'margarine', 'shopping bags', 'salt', 'oil', 'whipped/sour cream', 'frozen vegetables', 'sliced cheese', 'dish cleaner', 'baking powder', 'specialty cheese', 'salty snack', 'Instant food products', 'pet care', 'white bread', 'female sanitary products', 'cling film/bags', 'soap', 'frozen chicken', 'house keeping products', 'spread cheese', 'decalcifier', 'frozen dessert', 'vinegar', 'nuts/prunes', 'potato products', 'frozen fish', 'hygiene articles', 'artif. sweetener', 'light bulbs', 'canned vegetables', 'chewing gum', 'canned fish', 'cookware', 'semi-finished bread', 'cat food', 'bathroom cleaner', 'prosecco', 'liver loaf', 'zwieback', 'canned fruit', 'frozen fruits', 'brandy', 'baby cosmetics', 'spices', 'napkins', 'waffles', 'sauces', 'rum', 'chocolate marshmallow', 'long life bakery product', 'bags', 'sweet spreads', 'soups', 'mustard', 'specialty fat', 'instant coffee', 'snack products', 'organic sausage', 'soft cheese', 'mayonnaise', 'dental care', 'roll products', 'kitchen towels', 'flower soil/fertilizer', 'cereals', 'meat spreads', 'dishes', 'male cosmetics', 'candles', 'whisky', 'tidbits', 'cooking chocolate', 'seasonal products', 'liqueur', 'abrasive cleaner', 'syrup', 'ketchup', 'cream', 'skin care', 'rubbing alcohol', 'nut snack', 'cocoa drinks', 'softener', 'organic products', 'cake bar', 'honey', 'jam', 'kitchen utensil', 'flower (seeds)', 'semi-finished bread', 'yogurt', nan, 'whole milk', 'butter', 'UHT-milk', 'cereals', 'other vegetables', 'tropical fruit', 'rolls/buns', 'sugar', 'pastry', 'cream cheese', 'root vegetables', 'canned beer', 'soda', 'beverages', 'berries', 'grapes', 'zwieback', 'bottled water', 'curd', 'brown bread', 'oil', 'beef', 'coffee', 'newspapers', 'pip fruit', 'citrus fruit', 'meat spreads', 'salt', 'onions', 'condensed milk', 'salty snack', 'butter milk', 'hamburger meat', 'photo/film', 'sliced cheese', 'misc. beverages', 'pork', 'fruit/vegetable juice', 'whipped/sour cream', 'sausage', 'dessert', 'red/blush wine', 'flour', 'Instant food products', 'frozen vegetables', 'ham', 'popcorn', 'shopping bags', 'herbs', 'specialty cheese', 'white wine', 'ice cream', 'soft cheese', 'bottled beer', 'candy', 'chewing gum', 'specialty bar', 'female sanitary products', 'meat', 'mustard', 'margarine', 'frozen meals', 'packaged fruit/vegetables', 'white bread', 'chicken', 'hard cheese', 'cake bar', 'canned fish', 'hygiene articles', 'mayonnaise', 'specialty chocolate', 'domestic eggs', 'frozen dessert', 'liquor', 'liver loaf', 'chocolate', 'bathroom cleaner', 'pet care', 'honey', 'turkey', 'nut snack', 'detergent', 'seasonal products', 'spread cheese', 'long life bakery product', 'potted plants', 'dish cleaner', 'processed cheese', 'spices', 'brandy', 'liquor (appetizer)', 'fish', 'pickled vegetables', 'flower (seeds)', 'roll products', 'napkins', 'organic sausage', 'dog food', 'pasta', 'rice', 'finished products', 'vinegar', 'instant coffee', 'skin care', 'softener', 'dental care', 'waffles', 'dishes', 'baking powder', 'frozen potato products', 'jam', 'cream', 'sweet spreads', 'cleaner', 'frozen fish', 'house keeping products', 'canned vegetables', 'cat food', 'specialty fat', 'tidbits', 'nuts/prunes', 'rum', 'male cosmetics', 'tea', 'organic products', 'chocolate marshmallow', 'decalcifier', 'candles', 'canned fruit', 'cookware', 'curd cheese', 'ketchup', 'cling film/bags', 'syrup', 'artif. sweetener', 'prosecco', 'soups', 'light bulbs', 'cocoa drinks', 'flower soil/fertilizer', 'sauces', 'sparkling wine', 'salad dressing', 'soap', 'specialty vegetables', 'snack products', 'kitchen towels', 'hair spray', 'abrasive cleaner', 'margarine', 'coffee', nan, 'cream cheese', 'condensed milk', 'yogurt', 'rolls/buns', 'white bread', 'whole milk', 'soda', 'fruit/vegetable juice', 'processed cheese', 'other vegetables', 'bottled water', 'detergent', 'newspapers', 'butter', 'cat food', 'canned beer', 'whipped/sour cream', 'sugar', 'frozen vegetables', 'curd', 'berries', 'hard cheese', 'onions', 'candles', 'citrus fruit', 'brown bread', 'grapes', 'root vegetables', 'UHT-milk', 'pastry', 'long life bakery product', 'semi-finished bread', 'beverages', 'liquor (appetizer)', 'pip fruit', 'honey', 'meat spreads', 'packaged fruit/vegetables', 'flour', 'dessert', 'chewing gum', 'shopping bags', 'cocoa drinks', 'cereals', 'waffles', 'white wine', 'tropical fruit', 'beef', 'bottled beer', 'Instant food products', 'hygiene articles', 'hamburger meat', 'pet care', 'rum', 'herbs', 'salad dressing', 'sauces', 'spices', 'salty snack', 'photo/film', 'cookware', 'specialty chocolate', 'butter milk', 'frozen meals', 'red/blush wine', 'pork', 'napkins', 'dish cleaner', 'specialty bar', 'sliced cheese', 'cake bar', 'canned fruit', 'male cosmetics', 'cling film/bags', 'liver loaf', 'pickled vegetables', 'dental care', 'specialty cheese', 'canned fish', 'spread cheese', 'dishes', 'frozen potato products', 'chocolate marshmallow', 'snack products', 'oil', 'domestic eggs', 'jam', 'artif. sweetener', 'pasta', 'mustard', 'potted plants', 'flower (seeds)', 'zwieback', 'tea', 'frozen fish', 'salt', 'chocolate', 'instant coffee', 'baking powder', 'mayonnaise', 'roll products', 'ice cream', 'nuts/prunes', 'misc. beverages', 'candy', 'chicken', 'liquor', 'ham', 'light bulbs', 'baby cosmetics', 'seasonal products', 'sweet spreads', 'turkey', 'soft cheese', 'meat', 'dog food', 'specialty fat', 'pudding powder', 'soups', 'house keeping products', 'female sanitary products', 'popcorn', 'frozen dessert', 'fish', 'ketchup', 'finished products', 'brandy', 'cream', 'sparkling wine', 'decalcifier', 'organic products', 'canned vegetables', 'tidbits', 'vinegar', 'nut snack', 'skin care', 'cleaner', 'cooking chocolate', 'prosecco', 'ready soups', 'syrup', 'hair spray', 'frozen fruits', 'organic sausage', 'curd cheese', 'make up remover', 'rice', 'bathroom cleaner', 'soap', 'softener', 'whisky', 'kitchen towels', 'abrasive cleaner', 'ready soups', nan, 'meat spreads', 'long life bakery product', 'rice', 'bottled beer', 'bottled water', 'butter', 'newspapers', 'detergent', 'frozen dessert', 'chocolate', 'canned beer', 'specialty bar', 'spices', 'beverages', 'whole milk', 'dessert', 'yogurt', 'spread cheese', 'curd', 'pickled vegetables', 'pastry', 'chewing gum', 'ice cream', 'canned fish', 'brown bread', 'specialty fat', 'domestic eggs', 'sugar', 'butter milk', 'fruit/vegetable juice', 'frozen vegetables', 'salt', 'cream cheese', 'berries', 'tropical fruit', 'coffee', 'root vegetables', 'soda', 'other vegetables', 'rolls/buns', 'processed cheese', 'margarine', 'waffles', 'white bread', 'cake bar', 'cling film/bags', 'salty snack', 'dog food', 'dishes', 'prosecco', 'pip fruit', 'zwieback', 'herbs', 'shopping bags', 'onions', 'sliced cheese', 'napkins', 'grapes', 'whipped/sour cream', 'vinegar', 'pasta', 'instant coffee', 'hard cheese', 'rubbing alcohol', 'chocolate marshmallow', 'soft cheese', 'packaged fruit/vegetables', 'hygiene articles', 'Instant food products', 'male cosmetics', 'frozen potato products', 'misc. beverages', 'house keeping products', 'snack products', 'frozen meals', 'photo/film', 'candy', 'rum', 'citrus fruit', 'sauces', 'white wine', 'ketchup', 'UHT-milk', 'cat food', 'specialty chocolate', 'sparkling wine', 'dental care', 'curd cheese', 'decalcifier', 'liquor (appetizer)', 'abrasive cleaner', 'semi-finished bread', 'condensed milk', 'organic products', 'jam', 'frozen fish', 'artif. sweetener', 'flour', 'canned vegetables', 'candles', 'softener', 'flower soil/fertilizer', 'oil', 'dish cleaner', 'specialty cheese', 'mayonnaise', 'light bulbs', 'roll products', 'ham', 'hamburger meat', 'baking powder', 'chicken', 'potted plants', 'red/blush wine', 'brandy', 'sweet spreads', 'canned fruit', 'mustard', 'pet care', 'liquor', 'salad dressing', 'potato products', 'popcorn', 'soups', 'pork', 'seasonal products', 'flower (seeds)', 'cocoa drinks', 'turkey', 'tea', 'beef', 'cereals', 'frozen fruits', 'kitchen towels', 'skin care', 'bathroom cleaner', 'toilet cleaner', 'syrup', 'cleaner', 'tidbits', 'pudding powder', 'nut snack', 'cream', 'specialty vegetables', 'female sanitary products', 'organic sausage', 'soap', 'cooking chocolate', 'liqueur', 'hair spray', 'fish', 'nuts/prunes', nan, 'abrasive cleaner', 'liquor (appetizer)', 'chocolate', 'curd', 'newspapers', 'rolls/buns', 'bottled water', 'sugar', 'whipped/sour cream', 'specialty bar', 'domestic eggs', 'soda', 'chocolate marshmallow', 'salty snack', 'frozen potato products', 'specialty chocolate', 'oil', 'pastry', 'bottled beer', 'onions', 'fruit/vegetable juice', 'root vegetables', 'brown bread', 'waffles', 'margarine', 'coffee', 'pip fruit', 'shopping bags', 'whole milk', 'detergent', 'white bread', 'yogurt', 'beverages', 'snack products', 'flower soil/fertilizer', 'popcorn', 'cake bar', 'dessert', 'spices', 'dishes', 'make up remover', 'canned beer', 'sliced cheese', 'misc. beverages', 'photo/film', 'hygiene articles', 'butter milk', 'candy', 'soap', 'napkins', 'pet care', 'mayonnaise', 'butter', 'frozen vegetables', 'dog food', 'other vegetables', 'chewing gum', 'canned vegetables', 'hard cheese', 'seasonal products', 'male cosmetics', 'red/blush wine', 'pasta', 'honey', 'UHT-milk', 'cereals', 'roll products', 'white wine', 'baking powder', 'mustard', 'light bulbs', 'frozen dessert', 'hair spray', 'soups', 'Instant food products', 'potato products', 'cleaner', 'ready soups', 'candles', 'specialty cheese', 'long life bakery product', 'rice', 'packaged fruit/vegetables', 'cream cheese', 'organic products', 'nuts/prunes', 'sweet spreads', 'berries', 'flour', 'soft cheese', 'frozen meals', 'liqueur', 'flower (seeds)', 'semi-finished bread', 'herbs', 'processed cheese', 'toilet cleaner', 'ice cream', 'dish cleaner', 'vinegar', 'pickled vegetables', 'canned fish', 'cookware', 'potted plants', 'cat food', 'chicken', 'spread cheese', 'bathroom cleaner', 'tropical fruit', 'cling film/bags', 'skin care', 'salt', 'dental care', 'instant coffee', 'curd cheese', 'pudding powder', 'cooking chocolate', 'softener', 'condensed milk', 'tea', 'liquor', 'ketchup', 'sparkling wine', 'frozen fish', 'rum', 'nut snack', 'tidbits', 'brandy', 'sauces', 'zwieback', 'kitchen towels', 'grapes', 'jam', 'hamburger meat', 'citrus fruit', 'house keeping products', 'specialty fat', 'salad dressing', 'pork', 'specialty vegetables', 'syrup', 'artif. sweetener', 'rubbing alcohol', 'meat spreads', 'cocoa drinks', 'female sanitary products', 'cream', 'frozen chicken', 'canned fruit', 'frozen fruits', nan, 'yogurt', 'flour', 'shopping bags', 'hygiene articles', 'artif. sweetener', 'brown bread', 'bottled water', 'UHT-milk', 'cat food', 'seasonal products', 'rolls/buns', 'candles', 'sparkling wine', 'oil', 'white wine', 'brandy', 'whipped/sour cream', 'canned beer', 'other vegetables', 'pastry', 'bottled beer', 'detergent', 'candy', 'soda', 'long life bakery product', 'whole milk', 'margarine', 'soft cheese', 'dental care', 'dishes', 'napkins', 'cake bar', 'specialty bar', 'spread cheese', 'butter milk', 'baking powder', 'spices', 'sliced cheese', 'domestic eggs', 'cream cheese', 'frozen fish', 'potted plants', 'abrasive cleaner', 'zwieback', 'salty snack', 'processed cheese', 'curd', 'specialty fat', 'pasta', 'soap', 'sweet spreads', 'softener', 'instant coffee', 'frozen vegetables', 'newspapers', 'frozen dessert', 'mayonnaise', 'fruit/vegetable juice', 'hard cheese', 'white bread', 'butter', 'coffee', 'Instant food products', 'pickled vegetables', 'canned fish', 'misc. beverages', 'potato products', 'female sanitary products', 'mustard', 'sugar', 'cleaner', 'flower (seeds)', 'house keeping products', 'specialty chocolate', 'semi-finished bread', 'waffles', 'packaged fruit/vegetables', 'root vegetables', 'dog food', 'bathroom cleaner', 'vinegar', 'cling film/bags', 'soups', 'specialty cheese', 'ready soups', 'frozen meals', 'cocoa drinks', 'light bulbs', 'kitchen towels', 'roll products', 'male cosmetics', 'chocolate', 'tidbits', 'beef', 'cereals', 'whisky', 'chewing gum', 'rice', 'ice cream', 'beverages', 'dish cleaner', 'condensed milk', 'onions', 'canned fruit', 'red/blush wine', 'salt', 'jam', 'pip fruit', 'ketchup', 'dessert', 'sauces', 'frozen potato products', 'liquor', 'syrup', 'snack products', 'berries', 'liquor (appetizer)', 'pet care', 'nut snack', 'chocolate marshmallow', 'cooking chocolate', 'tropical fruit', 'canned vegetables', 'tea', 'popcorn', 'meat spreads', 'citrus fruit', 'cream', 'pudding powder', 'curd cheese', 'preservation products', 'rum', 'make up remover', 'rubbing alcohol', 'herbs', 'photo/film', 'grapes', nan, 'flour', 'sweet spreads', 'napkins', 'soda', 'pastry', 'hard cheese', 'semi-finished bread', 'detergent', 'pickled vegetables', 'flower (seeds)', 'specialty chocolate', 'margarine', 'candles', 'rice', 'red/blush wine', 'butter', 'softener', 'cling film/bags', 'dishes', 'male cosmetics', 'newspapers', 'frozen vegetables', 'fruit/vegetable juice', 'chocolate', 'whole milk', 'shopping bags', 'brown bread', 'whipped/sour cream', 'tea', 'beverages', 'house keeping products', 'rolls/buns', 'frozen dessert', 'spices', 'sugar', 'domestic eggs', 'mustard', 'canned beer', 'specialty cheese', 'soft cheese', 'candy', 'roll products', 'misc. beverages', 'specialty bar', 'cake bar', 'white bread', 'curd cheese', 'coffee', 'waffles', 'specialty fat', 'hygiene articles', 'brandy', 'rum', 'frozen fish', 'salty snack', 'kitchen towels', 'frozen meals', 'bottled beer', 'canned fish', 'long life bakery product', 'abrasive cleaner', 'bottled water', 'vinegar', 'butter milk', 'packaged fruit/vegetables', 'seasonal products', 'ice cream', 'curd', 'canned fruit', 'pasta', 'spread cheese', 'instant coffee', 'artif. sweetener', 'other vegetables', 'yogurt', 'dessert', 'popcorn', 'dish cleaner', 'chewing gum', 'canned vegetables', 'cream cheese', 'baking powder', 'cream', 'potted plants', 'cat food', 'sauces', 'liquor (appetizer)', 'soups', 'oil', 'syrup', 'citrus fruit', 'dog food', 'processed cheese', 'onions', 'salt', 'light bulbs', 'female sanitary products', 'meat spreads', 'decalcifier', 'ketchup', 'herbs', 'snack products', 'sliced cheese', 'UHT-milk', 'root vegetables', 'cereals', 'grapes', 'pet care', 'white wine', 'nut snack', 'jam', 'specialty vegetables', 'dental care', 'whisky', 'sparkling wine', 'Instant food products', 'potato products', 'photo/film', 'mayonnaise', 'frozen potato products', 'liqueur', 'cleaner', 'prosecco', 'honey', 'berries', 'ready soups', 'zwieback', 'organic products', 'pudding powder', 'frozen fruits', 'skin care', 'chocolate marshmallow', 'condensed milk', 'liquor', 'bathroom cleaner', 'soap', 'pip fruit', 'bags', nan, 'bottled water', 'salty snack', 'abrasive cleaner', 'sugar', 'newspapers', 'rolls/buns', 'margarine', 'chocolate', 'canned vegetables', 'coffee', 'waffles', 'pasta', 'specialty bar', 'napkins', 'bottled beer', 'shopping bags', 'cream cheese', 'fruit/vegetable juice', 'butter', 'beverages', 'cling film/bags', 'flower (seeds)', 'frozen dessert', 'soups', 'hygiene articles', 'brown bread', 'semi-finished bread', 'soda', 'pickled vegetables', 'flour', 'dish cleaner', 'chewing gum', 'cat food', 'syrup', 'softener', 'roll products', 'sliced cheese', 'rice', 'misc. beverages', 'frozen potato products', 'red/blush wine', 'candles', 'pastry', 'seasonal products', 'detergent', 'frozen vegetables', 'tea', 'liquor', 'long life bakery product', 'organic products', 'whipped/sour cream', 'yogurt', 'domestic eggs', 'frozen meals', 'mustard', 'ready soups', 'whole milk', 'hard cheese', 'curd cheese', 'oil', 'potted plants', 'UHT-milk', 'white bread', 'cleaner', 'artif. sweetener', 'soft cheese', 'butter milk', 'dental care', 'canned beer', 'rum', 'processed cheese', 'dessert', 'Instant food products', 'curd', 'pudding powder', 'brandy', 'liquor (appetizer)', 'baking powder', 'tropical fruit', 'cookware', 'other vegetables', 'dishes', 'salt', 'sweet spreads', 'specialty chocolate', 'snack products', 'house keeping products', 'specialty fat', 'vinegar', 'female sanitary products', 'candy', 'instant coffee', 'salad dressing', 'onions', 'canned fish', 'cereals', 'chocolate marshmallow', 'jam', 'skin care', 'photo/film', 'white wine', 'hair spray', 'mayonnaise', 'spread cheese', 'frozen fruits', 'kitchen towels', 'ice cream', 'light bulbs', 'spices', 'dog food', 'pet care', 'toilet cleaner', 'baby cosmetics', 'frozen fish', 'whisky', 'specialty vegetables', 'bathroom cleaner', 'cake bar', 'zwieback', 'potato products', 'herbs', 'cooking chocolate', 'liqueur', 'condensed milk', 'popcorn', 'cocoa drinks', 'frozen chicken', 'sauces', 'male cosmetics', 'bags', 'soap', 'specialty cheese', 'sparkling wine', 'ketchup', 'honey', 'nut snack', 'tidbits', 'decalcifier', 'berries', 'meat spreads', nan, 'dishes', 'waffles', 'cereals', 'bottled water', 'baking powder', 'fruit/vegetable juice', 'chocolate', 'shopping bags', 'oil', 'bathroom cleaner', 'photo/film', 'chewing gum', 'domestic eggs', 'sugar', 'bottled beer', 'curd', 'hard cheese', 'rolls/buns', 'long life bakery product', 'salt', 'potato products', 'hygiene articles', 'soda', 'tea', 'margarine', 'pasta', 'newspapers', 'mustard', 'cleaner', 'misc. beverages', 'candy', 'specialty bar', 'dental care', 'cream cheese', 'organic products', 'chocolate marshmallow', 'rubbing alcohol', 'skin care', 'canned vegetables', 'rum', 'napkins', 'potted plants', 'frozen vegetables', 'flower (seeds)', 'cat food', 'dog food', 'coffee', 'white wine', 'spread cheese', 'sliced cheese', 'whipped/sour cream', 'zwieback', 'salty snack', 'mayonnaise', 'vinegar', 'house keeping products', 'sparkling wine', 'curd cheese', 'yogurt', 'pastry', 'instant coffee', 'sauces', 'butter milk', 'brown bread', 'popcorn', 'dessert', 'seasonal products', 'specialty cheese', 'detergent', 'white bread', 'kitchen towels', 'root vegetables', 'canned beer', 'cookware', 'whole milk', 'soft cheese', 'flour', 'female sanitary products', 'hair spray', 'semi-finished bread', 'canned fish', 'cling film/bags', 'rice', 'butter', 'pet care', 'ice cream', 'red/blush wine', 'frozen potato products', 'herbs', 'sweet spreads', 'canned fruit', 'specialty vegetables', 'frozen meals', 'dish cleaner', 'liquor (appetizer)', 'processed cheese', 'jam', 'Instant food products', 'light bulbs', 'cake bar', 'frozen dessert', 'pickled vegetables', 'candles', 'soups', 'sound storage medium', 'roll products', 'make up remover', 'frozen chicken', 'tidbits', 'kitchen utensil', 'other vegetables', 'specialty chocolate', 'UHT-milk', 'spices', 'pudding powder', 'condensed milk', 'baby cosmetics', 'male cosmetics', 'liquor', 'specialty fat', 'syrup', 'nut snack', 'cooking chocolate', 'softener', 'soap', 'flower soil/fertilizer', 'abrasive cleaner', 'meat spreads', nan, 'candy', 'coffee', 'long life bakery product', 'fruit/vegetable juice', 'bathroom cleaner', 'detergent', 'shopping bags', 'dishes', 'rice', 'baking powder', 'yogurt', 'rolls/buns', 'brown bread', 'sugar', 'bottled water', 'chocolate', 'soda', 'misc. beverages', 'pickled vegetables', 'specialty chocolate', 'napkins', 'hygiene articles', 'photo/film', 'white bread', 'bottled beer', 'mustard', 'cereals', 'newspapers', 'liquor (appetizer)', 'cling film/bags', 'soap', 'frozen dessert', 'soups', 'canned beer', 'red/blush wine', 'frozen potato products', 'ice cream', 'pastry', 'rum', 'domestic eggs', 'oil', 'potted plants', 'hard cheese', 'chocolate marshmallow', 'frozen vegetables', 'waffles', 'processed cheese', 'pasta', 'semi-finished bread', 'salty snack', 'margarine', 'chewing gum', 'pet care', 'whipped/sour cream', 'cake bar', 'cookware', 'light bulbs', 'other vegetables', 'butter milk', 'vinegar', 'beverages', 'popcorn', 'jam', 'butter', 'cleaner', 'flower (seeds)', 'sliced cheese', 'ketchup', 'cream cheese', 'house keeping products', 'male cosmetics', 'soft cheese', 'softener', 'specialty bar', 'kitchen towels', 'cat food', 'brandy', 'sweet spreads', 'instant coffee', 'seasonal products', 'specialty fat', 'dog food', 'dental care', 'canned fish', 'tea', 'meat spreads', 'syrup', 'salad dressing', 'cocoa drinks', 'flour', 'frozen meals', 'liquor', 'dish cleaner', 'candles', 'Instant food products', 'sparkling wine', 'salt', 'whole milk', 'roll products', 'specialty cheese', 'skin care', 'canned fruit', 'sauces', 'female sanitary products', 'mayonnaise', 'zwieback', 'frozen fish', 'specialty vegetables', 'canned vegetables', 'spread cheese', 'spices', 'abrasive cleaner', 'cooking chocolate', 'organic products', 'toilet cleaner', 'nut snack', 'UHT-milk', 'ready soups', 'curd', 'decalcifier', nan, 'bathroom cleaner', 'soda', 'sugar', 'whipped/sour cream', 'dish cleaner', 'tea', 'cereals', 'bottled beer', 'newspapers', 'hygiene articles', 'waffles', 'fruit/vegetable juice', 'canned beer', 'detergent', 'cling film/bags', 'coffee', 'napkins', 'cat food', 'shopping bags', 'baking powder', 'potted plants', 'candy', 'domestic eggs', 'margarine', 'candles', 'sparkling wine', 'rum', 'brown bread', 'bottled water', 'rolls/buns', 'pastry', 'white wine', 'salty snack', 'frozen vegetables', 'vinegar', 'white bread', 'specialty vegetables', 'skin care', 'seasonal products', 'UHT-milk', 'canned vegetables', 'flour', 'long life bakery product', 'whole milk', 'oil', 'house keeping products', 'butter milk', 'ice cream', 'female sanitary products', 'misc. beverages', 'chocolate', 'pickled vegetables', 'decalcifier', 'canned fruit', 'flower (seeds)', 'sauces', 'chewing gum', 'specialty chocolate', 'specialty bar', 'frozen potato products', 'jam', 'semi-finished bread', 'dishes', 'kitchen towels', 'frozen dessert', 'syrup', 'specialty fat', 'softener', 'sweet spreads', 'mayonnaise', 'male cosmetics', 'liquor (appetizer)', 'Instant food products', 'sliced cheese', 'cream cheese', 'roll products', 'soups', 'dog food', 'canned fish', 'pasta', 'dental care', 'cake bar', 'beverages', 'frozen fish', 'salt', 'organic products', 'photo/film', 'specialty cheese', 'cookware', 'popcorn', 'soft cheese', 'yogurt', 'snack products', 'ketchup', 'spices', 'mustard', 'rice', 'potato products', 'frozen meals', 'hard cheese', 'pudding powder', 'abrasive cleaner', 'flower soil/fertilizer', 'nut snack', 'salad dressing', 'instant coffee', 'cooking chocolate', 'cleaner', 'butter', 'chocolate marshmallow', 'liquor', 'cream', 'dessert', 'toilet cleaner', 'brandy', 'red/blush wine', nan, 'waffles', 'canned fruit', 'soft cheese', 'cookware', 'bottled water', 'canned vegetables', 'napkins', 'hygiene articles', 'long life bakery product', 'coffee', 'fruit/vegetable juice', 'cling film/bags', 'rolls/buns', 'soda', 'female sanitary products', 'potted plants', 'dishes', 'bottled beer', 'Instant food products', 'baking powder', 'salty snack', 'chocolate', 'salt', 'margarine', 'flour', 'cocoa drinks', 'frozen fish', 'pastry', 'instant coffee', 'red/blush wine', 'meat spreads', 'cat food', 'roll products', 'detergent', 'frozen vegetables', 'rice', 'newspapers', 'butter', 'domestic eggs', 'yogurt', 'semi-finished bread', 'canned beer', 'cleaner', 'ketchup', 'shopping bags', 'chewing gum', 'jam', 'seasonal products', 'softener', 'canned fish', 'pickled vegetables', 'curd', 'brown bread', 'rum', 'frozen meals', 'sweet spreads', 'spices', 'white bread', 'cooking chocolate', 'chocolate marshmallow', 'pasta', 'honey', 'hard cheese', 'mayonnaise', 'misc. beverages', 'photo/film', 'specialty bar', 'cereals', 'frozen potato products', 'oil', 'house keeping products', 'dental care', 'sugar', 'frozen dessert', 'candy', 'UHT-milk', 'cake bar', 'specialty chocolate', 'beverages', 'popcorn', 'cream cheese', 'specialty cheese', 'whipped/sour cream', 'potato products', 'processed cheese', 'sparkling wine', 'kitchen towels', 'vinegar', 'candles', 'sauces', 'abrasive cleaner', 'nut snack', 'dish cleaner', 'soap', 'mustard', 'curd cheese', 'preservation products', 'pudding powder', 'ice cream', 'frozen fruits', 'rubbing alcohol', 'sliced cheese', 'artif. sweetener', nan, 'candy', 'misc. beverages', 'sliced cheese', 'canned fish', 'napkins', 'chocolate', 'soda', 'soap', 'sugar', 'liquor (appetizer)', 'shopping bags', 'detergent', 'abrasive cleaner', 'salty snack', 'fruit/vegetable juice', 'chocolate marshmallow', 'baking powder', 'soups', 'mustard', 'domestic eggs', 'pastry', 'newspapers', 'specialty bar', 'rice', 'waffles', 'frozen vegetables', 'potted plants', 'red/blush wine', 'frozen meals', 'dish cleaner', 'canned beer', 'oil', 'white wine', 'curd', 'brown bread', 'specialty chocolate', 'rolls/buns', 'dishes', 'semi-finished bread', 'cat food', 'female sanitary products', 'cookware', 'decalcifier', 'coffee', 'bottled water', 'yogurt', 'frozen fish', 'bottled beer', 'spices', 'seasonal products', 'popcorn', 'margarine', 'long life bakery product', 'vinegar', 'Instant food products', 'hygiene articles', 'canned vegetables', 'candles', 'meat spreads', 'cereals', 'softener', 'cake bar', 'dental care', 'jam', 'salt', 'cleaner', 'pasta', 'bathroom cleaner', 'light bulbs', 'white bread', 'house keeping products', 'kitchen towels', 'rum', 'organic products', 'sweet spreads', 'cooking chocolate', 'pickled vegetables', 'flower (seeds)', 'honey', 'cling film/bags', 'specialty cheese', 'nut snack', 'flour', 'hard cheese', 'kitchen utensil', 'liquor', 'photo/film', 'chewing gum', nan, 'fruit/vegetable juice', 'cream cheese', 'skin care', 'baby cosmetics', 'chocolate', 'baking powder', 'cake bar', 'shopping bags', 'hygiene articles', 'newspapers', 'dish cleaner', 'bottled water', 'canned fish', 'coffee', 'waffles', 'cleaner', 'white bread', 'mustard', 'potted plants', 'misc. beverages', 'napkins', 'margarine', 'specialty chocolate', 'rolls/buns', 'abrasive cleaner', 'salty snack', 'yogurt', 'roll products', 'detergent', 'oil', 'brown bread', 'tea', 'rubbing alcohol', 'cooking chocolate', 'whipped/sour cream', 'long life bakery product', 'ice cream', 'ready soups', 'softener', 'female sanitary products', 'soups', 'popcorn', 'bottled beer', 'rice', 'light bulbs', 'candy', 'soda', 'house keeping products', 'frozen dessert', 'frozen potato products', 'red/blush wine', 'nut snack', 'chewing gum', 'chocolate marshmallow', 'dishes', 'kitchen towels', 'specialty fat', 'specialty bar', 'seasonal products', 'candles', 'pastry', 'frozen vegetables', 'artif. sweetener', 'organic products', 'cat food', 'pickled vegetables', 'cling film/bags', 'sauces', 'vinegar', 'frozen meals', 'jam', 'canned fruit', 'flour', 'canned beer', 'Instant food products', 'dog food', 'canned vegetables', 'sugar', 'cocoa drinks', 'zwieback', 'dental care', 'flower (seeds)', 'spread cheese', 'pasta', nan, 'hygiene articles', 'frozen meals', 'dish cleaner', 'candy', 'shopping bags', 'dental care', 'misc. beverages', 'chocolate', 'cocoa drinks', 'napkins', 'rice', 'specialty chocolate', 'light bulbs', 'sugar', 'white bread', 'fruit/vegetable juice', 'whipped/sour cream', 'salty snack', 'semi-finished bread', 'cat food', 'photo/film', 'candles', 'soft cheese', 'dog food', 'domestic eggs', 'male cosmetics', 'soda', 'flower soil/fertilizer', 'pickled vegetables', 'waffles', 'rubbing alcohol', 'bathroom cleaner', 'newspapers', 'rolls/buns', 'softener', 'canned beer', 'long life bakery product', 'kitchen towels', 'pastry', 'pudding powder', 'detergent', 'snack products', 'flour', 'roll products', 'mustard', 'popcorn', 'baking powder', 'coffee', 'tea', 'chewing gum', 'potted plants', 'bottled beer', 'specialty bar', 'syrup', 'seasonal products', 'bottled water', 'oil', 'frozen potato products', 'cooking chocolate', 'kitchen utensil', 'cling film/bags', 'pasta', 'baby cosmetics', 'red/blush wine', 'female sanitary products', 'house keeping products', 'sauces', 'chocolate marshmallow', 'margarine', 'dishes', 'cereals', 'frozen fish', 'cookware', 'cleaner', nan, 'frozen fish', 'napkins', 'seasonal products', 'fruit/vegetable juice', 'candy', 'newspapers', 'specialty fat', 'specialty bar', 'pickled vegetables', 'dishes', 'brown bread', 'kitchen towels', 'specialty chocolate', 'beverages', 'abrasive cleaner', 'long life bakery product', 'waffles', 'bottled water', 'cream cheese', 'pastry', 'cling film/bags', 'dish cleaner', 'canned beer', 'flower (seeds)', 'coffee', 'pet care', 'hygiene articles', 'detergent', 'light bulbs', 'chocolate', 'shopping bags', 'white bread', 'mustard', 'misc. beverages', 'cake bar', 'semi-finished bread', 'decalcifier', 'margarine', 'pasta', 'soups', 'canned vegetables', 'soda', 'frozen potato products', 'bottled beer', 'chocolate marshmallow', 'house keeping products', 'female sanitary products', 'domestic eggs', 'potted plants', 'chewing gum', 'dental care', 'red/blush wine', 'cookware', 'salty snack', 'artif. sweetener', 'sweet spreads', 'bathroom cleaner', 'sugar', 'syrup', 'popcorn', 'ready soups', 'liquor (appetizer)', 'canned fish', nan, 'domestic eggs', 'newspapers', 'skin care', 'canned beer', 'napkins', 'salty snack', 'dog food', 'dental care', 'bottled water', 'kitchen towels', 'pastry', 'soft cheese', 'cleaner', 'candy', 'potted plants', 'fruit/vegetable juice', 'flower (seeds)', 'shopping bags', 'frozen vegetables', 'soda', 'popcorn', 'long life bakery product', 'coffee', 'waffles', 'specialty chocolate', 'salt', 'ketchup', 'rice', 'detergent', 'oil', 'specialty bar', 'dishes', 'chocolate marshmallow', 'hygiene articles', 'canned fish', 'cereals', 'chocolate', 'cat food', 'bottled beer', 'white wine', 'photo/film', 'white bread', 'abrasive cleaner', 'cake bar', 'cling film/bags', 'female sanitary products', 'Instant food products', 'bathroom cleaner', 'brown bread', nan, 'white bread', 'specialty chocolate', 'long life bakery product', 'bottled water', 'shopping bags', 'fruit/vegetable juice', 'pasta', 'hard cheese', 'hygiene articles', 'napkins', 'detergent', 'brown bread', 'syrup', 'chocolate', 'soda', 'rice', 'meat spreads', 'oil', 'salty snack', 'potted plants', 'newspapers', 'candy', 'coffee', 'jam', 'chewing gum', 'rolls/buns', 'prosecco', 'canned vegetables', 'semi-finished bread', 'kitchen towels', 'male cosmetics', 'house keeping products', 'specialty bar', 'seasonal products', 'pet care', 'rubbing alcohol', 'canned fish', 'chocolate marshmallow', 'dish cleaner', 'canned beer', 'light bulbs', 'margarine', 'misc. beverages', 'sparkling wine', nan, 'sugar', 'potted plants', 'chocolate', 'fruit/vegetable juice', 'candy', 'soups', 'cream cheese', 'shopping bags', 'house keeping products', 'pastry', 'detergent', 'seasonal products', 'flower (seeds)', 'oil', 'canned fish', 'specialty fat', 'waffles', 'light bulbs', 'bottled water', 'dish cleaner', 'napkins', 'roll products', 'chocolate marshmallow', 'pickled vegetables', 'newspapers', 'candles', 'cleaner', 'hygiene articles', 'dental care', 'skin care', 'bottled beer', 'baking powder', 'syrup', nan, 'cereals', 'seasonal products', 'long life bakery product', 'skin care', 'baby food', 'mayonnaise', 'semi-finished bread', 'female sanitary products', 'salty snack', 'margarine', 'bottled beer', 'specialty vegetables', 'potted plants', 'newspapers', 'salt', 'candy', 'detergent', 'napkins', 'canned fish', 'instant coffee', 'shopping bags', 'house keeping products', 'soap', 'specialty bar', 'abrasive cleaner', 'hygiene articles', 'cat food', 'waffles', 'chocolate', nan, 'fruit/vegetable juice', 'softener', 'napkins', 'domestic eggs', 'margarine', 'hygiene articles', 'long life bakery product', 'mustard', 'chewing gum', 'canned fish', 'specialty chocolate', 'candles', 'flower (seeds)', 'rice', 'house keeping products', 'instant coffee', 'soda', 'kitchen towels', 'snack products', 'newspapers', 'pet care', 'chocolate', 'candy', nan, 'bottled beer', 'napkins', 'salty snack', 'rolls/buns', 'cling film/bags', 'baking powder', 'decalcifier', 'coffee', 'potted plants', 'margarine', 'tea', 'fruit/vegetable juice', 'cookware', 'waffles', 'soda', 'seasonal products', 'cleaner', nan, 'waffles', 'cling film/bags', 'roll products', 'dog food', 'hygiene articles', 'instant coffee', 'jam', 'misc. beverages', 'flower (seeds)', 'newspapers', 'chocolate marshmallow', 'fruit/vegetable juice', 'dental care', nan, 'cake bar', 'flour', 'bottled water', 'bottled beer', 'coffee', 'hygiene articles', 'nut snack', nan, 'chocolate', 'pasta', 'fruit/vegetable juice', 'liquor (appetizer)', 'long life bakery product', 'white wine', nan, 'shopping bags', 'margarine', 'rum', 'long life bakery product', 'waffles', 'chocolate', 'female sanitary products', nan, 'specialty fat', 'long life bakery product', 'chocolate', 'hygiene articles', 'abrasive cleaner', nan, 'sugar', 'chocolate', 'napkins', 'hygiene articles', nan, 'soups', 'cooking chocolate', 'house keeping products', nan, 'skin care', nan, 'hygiene articles', nan, 'candles']\n"
          ]
        }
      ]
    },
    {
      "cell_type": "code",
      "source": [
        "encoded_vals        = []\n",
        "for i, rows in items_data_df.iterrows():\n",
        "\tlabels          = {}\n",
        "\tuncommons       = list(set(unique_items) - set(rows))\n",
        "\tcommons         = list(set(unique_items).intersection(rows))\n",
        "\tfor uc in uncommons:\n",
        "\t\tlabels[uc]  = 0\n",
        "\tfor com in commons:\n",
        "\t\tlabels[com] = 1\n",
        "\tencoded_vals.append(labels)\n",
        "encoded_vals[0]\n",
        "\n",
        "encode_df           = pd.DataFrame(encoded_vals)\n",
        "\n"
      ],
      "metadata": {
        "id": "QL86Ki-ZnDpA"
      },
      "execution_count": 11,
      "outputs": []
    },
    {
      "cell_type": "code",
      "source": [
        "freq_items          = ap(encode_df, min_support=0.05, use_colnames=True)\n",
        "print(freq_items.head())\n",
        "print(\"\\n\\n\\n\\n\\n\\n\")\n",
        "\n",
        "print(freq_items)\n"
      ],
      "metadata": {
        "colab": {
          "base_uri": "https://localhost:8080/"
        },
        "id": "cfMQl0xznNbE",
        "outputId": "5f7daa67-444a-448c-933c-f0a7496dde61"
      },
      "execution_count": 12,
      "outputs": [
        {
          "output_type": "stream",
          "name": "stdout",
          "text": [
            "    support                 itemsets\n",
            "0  0.053279                   (curd)\n",
            "1  0.080529           (bottled beer)\n",
            "2  0.052364                (napkins)\n",
            "3  0.193493       (other vegetables)\n",
            "4  0.072293  (fruit/vegetable juice)\n",
            "\n",
            "\n",
            "\n",
            "\n",
            "\n",
            "\n",
            "\n",
            "     support                             itemsets\n",
            "0   0.053279                               (curd)\n",
            "1   0.080529                       (bottled beer)\n",
            "2   0.052364                            (napkins)\n",
            "3   0.193493                   (other vegetables)\n",
            "4   0.072293              (fruit/vegetable juice)\n",
            "..       ...                                  ...\n",
            "58  0.058465                     (nan, margarine)\n",
            "59  0.082664                  (nan, citrus fruit)\n",
            "60  0.074733  (other vegetables, nan, whole milk)\n",
            "61  0.055923            (nan, yogurt, whole milk)\n",
            "62  0.056533        (nan, whole milk, rolls/buns)\n",
            "\n",
            "[63 rows x 2 columns]\n"
          ]
        }
      ]
    },
    {
      "cell_type": "code",
      "source": [
        "assocn_rules_conf   = ar(freq_items, metric=\"confidence\", min_threshold=0.7)\n",
        "print(assocn_rules_conf)"
      ],
      "metadata": {
        "colab": {
          "base_uri": "https://localhost:8080/"
        },
        "id": "My1UeknwnS92",
        "outputId": "516cf058-6af0-4e6b-c056-7d3f873b7e90"
      },
      "execution_count": 13,
      "outputs": [
        {
          "output_type": "stream",
          "name": "stdout",
          "text": [
            "                       antecedents consequents  antecedent support  \\\n",
            "0                           (curd)       (nan)            0.053279   \n",
            "1                   (bottled beer)       (nan)            0.080529   \n",
            "2                        (napkins)       (nan)            0.052364   \n",
            "3               (other vegetables)       (nan)            0.193493   \n",
            "4          (fruit/vegetable juice)       (nan)            0.072293   \n",
            "5                         (coffee)       (nan)            0.058058   \n",
            "6                         (pastry)       (nan)            0.088968   \n",
            "7                        (sausage)       (nan)            0.093950   \n",
            "8                      (pip fruit)       (nan)            0.075648   \n",
            "9                         (yogurt)       (nan)            0.139502   \n",
            "10                   (brown bread)       (nan)            0.064870   \n",
            "11                    (rolls/buns)       (nan)            0.183935   \n",
            "12                   (canned beer)       (nan)            0.077682   \n",
            "13                    (newspapers)       (nan)            0.079817   \n",
            "14                   (frankfurter)       (nan)            0.058973   \n",
            "15                 (shopping bags)       (nan)            0.098526   \n",
            "16                          (beef)       (nan)            0.052466   \n",
            "17                    (whole milk)       (nan)            0.255516   \n",
            "18                 (domestic eggs)       (nan)            0.063447   \n",
            "19                (tropical fruit)       (nan)            0.104931   \n",
            "20                 (bottled water)       (nan)            0.110524   \n",
            "21                          (soda)       (nan)            0.174377   \n",
            "22                        (butter)       (nan)            0.055414   \n",
            "23               (root vegetables)       (nan)            0.108998   \n",
            "24            (whipped/sour cream)       (nan)            0.071683   \n",
            "25                          (pork)       (nan)            0.057651   \n",
            "26                     (margarine)       (nan)            0.058566   \n",
            "27                  (citrus fruit)       (nan)            0.082766   \n",
            "28  (other vegetables, whole milk)       (nan)            0.074835   \n",
            "29            (yogurt, whole milk)       (nan)            0.056024   \n",
            "30        (whole milk, rolls/buns)       (nan)            0.056634   \n",
            "\n",
            "    consequent support   support  confidence      lift  leverage  conviction  \n",
            "0             0.999898  0.053177    0.998092  0.998193 -0.000096    0.053279  \n",
            "1             0.999898  0.080529    1.000000  1.000102  0.000008         inf  \n",
            "2             0.999898  0.052364    1.000000  1.000102  0.000005         inf  \n",
            "3             0.999898  0.193391    0.999475  0.999576 -0.000082    0.193493  \n",
            "4             0.999898  0.072293    1.000000  1.000102  0.000007         inf  \n",
            "5             0.999898  0.058058    1.000000  1.000102  0.000006         inf  \n",
            "6             0.999898  0.088968    1.000000  1.000102  0.000009         inf  \n",
            "7             0.999898  0.093849    0.998918  0.999019 -0.000092    0.093950  \n",
            "8             0.999898  0.075648    1.000000  1.000102  0.000008         inf  \n",
            "9             0.999898  0.139400    0.999271  0.999373 -0.000087    0.139502  \n",
            "10            0.999898  0.064870    1.000000  1.000102  0.000007         inf  \n",
            "11            0.999898  0.183833    0.999447  0.999549 -0.000083    0.183935  \n",
            "12            0.999898  0.077682    1.000000  1.000102  0.000008         inf  \n",
            "13            0.999898  0.079817    1.000000  1.000102  0.000008         inf  \n",
            "14            0.999898  0.058871    0.998276  0.998377 -0.000096    0.058973  \n",
            "15            0.999898  0.098526    1.000000  1.000102  0.000010         inf  \n",
            "16            0.999898  0.052364    0.998062  0.998164 -0.000096    0.052466  \n",
            "17            0.999898  0.255414    0.999602  0.999704 -0.000076    0.255516  \n",
            "18            0.999898  0.063345    0.998397  0.998499 -0.000095    0.063447  \n",
            "19            0.999898  0.104830    0.999031  0.999133 -0.000091    0.104931  \n",
            "20            0.999898  0.110524    1.000000  1.000102  0.000011         inf  \n",
            "21            0.999898  0.174377    1.000000  1.000102  0.000018         inf  \n",
            "22            0.999898  0.055313    0.998165  0.998267 -0.000096    0.055414  \n",
            "23            0.999898  0.108897    0.999067  0.999169 -0.000091    0.108998  \n",
            "24            0.999898  0.071581    0.998582  0.998683 -0.000094    0.071683  \n",
            "25            0.999898  0.057651    1.000000  1.000102  0.000006         inf  \n",
            "26            0.999898  0.058465    0.998264  0.998365 -0.000096    0.058566  \n",
            "27            0.999898  0.082664    0.998771  0.998873 -0.000093    0.082766  \n",
            "28            0.999898  0.074733    0.998641  0.998743 -0.000094    0.074835  \n",
            "29            0.999898  0.055923    0.998185  0.998287 -0.000096    0.056024  \n",
            "30            0.999898  0.056533    0.998205  0.998306 -0.000096    0.056634  \n"
          ]
        }
      ]
    },
    {
      "cell_type": "code",
      "source": [
        "assocn_rules_supp   = ar(freq_items, metric=\"support\", min_threshold=0.05)\n",
        "print(assocn_rules_supp)"
      ],
      "metadata": {
        "colab": {
          "base_uri": "https://localhost:8080/"
        },
        "id": "kokY8hkEnboj",
        "outputId": "b0867e1c-2a6a-4344-db83-b2fcd6c3314c"
      },
      "execution_count": 14,
      "outputs": [
        {
          "output_type": "stream",
          "name": "stdout",
          "text": [
            "                 antecedents               consequents  antecedent support  \\\n",
            "0                      (nan)                    (curd)            0.999898   \n",
            "1                     (curd)                     (nan)            0.053279   \n",
            "2                      (nan)            (bottled beer)            0.999898   \n",
            "3             (bottled beer)                     (nan)            0.080529   \n",
            "4                      (nan)                 (napkins)            0.999898   \n",
            "..                       ...                       ...                 ...   \n",
            "75         (nan, rolls/buns)              (whole milk)            0.183833   \n",
            "76  (whole milk, rolls/buns)                     (nan)            0.056634   \n",
            "77                     (nan)  (whole milk, rolls/buns)            0.999898   \n",
            "78              (whole milk)         (nan, rolls/buns)            0.255516   \n",
            "79              (rolls/buns)         (nan, whole milk)            0.183935   \n",
            "\n",
            "    consequent support   support  confidence      lift  leverage  conviction  \n",
            "0             0.053279  0.053177    0.053183  0.998193 -0.000096    0.999898  \n",
            "1             0.999898  0.053177    0.998092  0.998193 -0.000096    0.053279  \n",
            "2             0.080529  0.080529    0.080537  1.000102  0.000008    1.000009  \n",
            "3             0.999898  0.080529    1.000000  1.000102  0.000008         inf  \n",
            "4             0.052364  0.052364    0.052369  1.000102  0.000005    1.000006  \n",
            "..                 ...       ...         ...       ...       ...         ...  \n",
            "75            0.255516  0.056533    0.307522  1.203534  0.009560    1.075101  \n",
            "76            0.999898  0.056533    0.998205  0.998306 -0.000096    0.056634  \n",
            "77            0.056634  0.056533    0.056539  0.998306 -0.000096    0.999898  \n",
            "78            0.183833  0.056533    0.221250  1.203534  0.009560    1.048047  \n",
            "79            0.255414  0.056533    0.307352  1.203347  0.009553    1.074984  \n",
            "\n",
            "[80 rows x 9 columns]\n"
          ]
        }
      ]
    },
    {
      "cell_type": "code",
      "source": [
        "plt.scatter(assocn_rules_conf['support'], assocn_rules_conf['confidence'], alpha=0.5)\n",
        "plt.xlabel('support')\n",
        "plt.ylabel('confidence')\n",
        "plt.title('Support vs Confidence')\n",
        "plt.show()"
      ],
      "metadata": {
        "colab": {
          "base_uri": "https://localhost:8080/",
          "height": 295
        },
        "id": "L8f4rawQniUJ",
        "outputId": "fee17d4e-6c4f-4bd6-c123-1b08efe8fec1"
      },
      "execution_count": 15,
      "outputs": [
        {
          "output_type": "display_data",
          "data": {
            "text/plain": [
              "<Figure size 432x288 with 1 Axes>"
            ],
            "image/png": "[encoded data removed]"
          },
          "metadata": {
            "needs_background": "light"
          }
        }
      ]
    },
    {
      "cell_type": "code",
      "source": [
        "plt.scatter(assocn_rules_conf['support'], assocn_rules_conf['lift'], alpha=0.5)\n",
        "plt.xlabel('support')\n",
        "plt.ylabel('lift')\n",
        "plt.title('Support vs Lift')\n",
        "plt.show()\n"
      ],
      "metadata": {
        "colab": {
          "base_uri": "https://localhost:8080/",
          "height": 295
        },
        "id": "0rT87tdcnmUf",
        "outputId": "6087c6e2-5c07-460c-9fb5-08b8e5228a89"
      },
      "execution_count": 16,
      "outputs": [
        {
          "output_type": "display_data",
          "data": {
            "text/plain": [
              "<Figure size 432x288 with 1 Axes>"
            ],
            "image/png": "[encoded data removed]"
          },
          "metadata": {
            "needs_background": "light"
          }
        }
      ]
    },
    {
      "cell_type": "code",
      "source": [
        "\n"
      ],
      "metadata": {
        "id": "U3EQdgPnno_Z"
      },
      "execution_count": 16,
      "outputs": []
    }
  ]
}